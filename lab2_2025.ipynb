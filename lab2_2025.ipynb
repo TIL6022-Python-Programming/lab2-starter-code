{
 "cells": [
  {
   "cell_type": "markdown",
   "id": "95068381",
   "metadata": {},
   "source": [
    "<h1>1. String methods</h1>"
   ]
  },
  {
   "cell_type": "markdown",
   "id": "83e64de9",
   "metadata": {},
   "source": [
    "Like any programming language, Python allows many operations on strings. Finding sub-strings, splitting, joining, etc. You can find a list of the available methods [here](https://docs.python.org/3/library/stdtypes.html#string-methods).<br>\n",
    "<br>\n",
    "<b>Exercise</b><br>\n",
    "Use the appropriate methods to make the following lines of code work."
   ]
  },
  {
   "cell_type": "code",
   "execution_count": null,
   "id": "7a420da1-c543-40af-a3ba-e0dbb0599461",
   "metadata": {},
   "outputs": [],
   "source": [
    "string = \"In computer programming,  a string is traditionally  a sequence of characters.  \"\n",
    "\n",
    "print(string.         )                     # index of the first 'c'\n",
    "print(string.          )                    # index of the last 'c' (see r{name} methods for right-hand functions)\n",
    "print(len(string.       ))                  # length of the string without trailing whitespaces\n",
    "print(string.                )              # whether the string starts with \"In\"\n",
    "print(string.       )                       # string as all lower-case\n",
    "print(string.          )                    # list of parts of the sentence, split by \",\"\n",
    "print(string.                  )            # all double whitespaces replaced by a single whitespace\n",
    "print(string.                             ) # without the word \"traditionally\" (beware of whitespaces)"
   ]
  },
  {
   "cell_type": "markdown",
   "id": "bef74d2e",
   "metadata": {},
   "source": [
    "Write your solutions on the `return` lines inside the following function."
   ]
  },
  {
   "cell_type": "code",
   "execution_count": null,
   "id": "3f1db1ad",
   "metadata": {},
   "outputs": [],
   "source": [
    "# tested function: leave function name and input as is\n",
    "def string_operations(operation = 1, string = \"In computer programming,  a string is traditionally  a sequence of characters.  \"):\n",
    "    match operation:\n",
    "        case 1: # index of the first 'c'\n",
    "            return string.\n",
    "        \n",
    "        case 2: # index of the last 'c' (see r{name} methods for right-hand functions)\n",
    "            return string.\n",
    "        \n",
    "        case 3: # length of the string without trailing whitespaces\n",
    "            return len(string.       )\n",
    "        \n",
    "        case 4: # whether the string starts with \"In\"\n",
    "            return string.\n",
    "        \n",
    "        case 5: # string as all lower-case\n",
    "            return string.\n",
    "        \n",
    "        case 6: # list of parts of the sentence, split by \",\"\n",
    "            return string.\n",
    "        \n",
    "        case 7: # all double whitespaces replaced by a single whitespace\n",
    "            return string.\n",
    "        \n",
    "        case 8: # without the word \"traditionally\" (beware of whitespaces)\n",
    "            return string."
   ]
  },
  {
   "cell_type": "markdown",
   "id": "c2de91b7",
   "metadata": {},
   "source": [
    "<h1>2. String formatting</h2>"
   ]
  },
  {
   "cell_type": "markdown",
   "id": "1f8c61a0",
   "metadata": {},
   "source": [
    "Formatting a string allows you to export or print data. For example, printing the string `Client name: %s` where `%s` is formatted to be the name of a client given as a string. Besides substituting strings at `%s`, other data types can also be formatted in to the string. See [here](https://docs.python.org/3/library/stdtypes.html#printf-style-string-formatting) for a list of all formatting conversions. This includes formatting/rounding numbers.<br>\n",
    "<br>\n",
    "A general way to format a string is given below. Note the `%d` for an integer and `%.2f` for a float with a precision of 2 decimals. In case of a single argument, the `( )` are not nessecary."
   ]
  },
  {
   "cell_type": "code",
   "execution_count": null,
   "id": "621f0118-5930-4446-8722-18787d17ebda",
   "metadata": {},
   "outputs": [],
   "source": [
    "client_name = \"Obelix\"\n",
    "client_age = 32                                                                                 # [years]\n",
    "client_length = 1.8                                                                             # [m]\n",
    "string = \"Client %s is %d years old and %.2fm long.\" % (client_name, client_age, client_length) # the format is: string % (arguments)\n",
    "print(string)"
   ]
  },
  {
   "cell_type": "markdown",
   "id": "34099dbf",
   "metadata": {},
   "source": [
    "<b>Exercise</b><br>\n",
    "Use the appropriate format to make the following lines of code work."
   ]
  },
  {
   "cell_type": "code",
   "execution_count": null,
   "id": "914557d6-abec-4d59-9f54-b32771bec143",
   "metadata": {},
   "outputs": [],
   "source": [
    "value = 1.73456\n",
    "print(\"    \" % value)    # 2        (see \"5. Precision\", why can't you use %d?)\n",
    "print(\"    \" % value)    # 1.7      \n",
    "print(\"    \" % value)    # 1.73\n",
    "print(\"     \" % value)   #    1.73  (with a total length of 7, see \"4. Minimum field width\")\n",
    "print(\"      \" % value)  # 0001.73  (see Flag '0')\n",
    "print(\"     \" % value)   # +1.73    (see Flag '+')\n",
    "print(\"       \" % value) # +001.73\n",
    "print(\"    \" % value)    # 1.73e+00 (exponential format)"
   ]
  },
  {
   "cell_type": "markdown",
   "id": "d667106c",
   "metadata": {},
   "source": [
    "Write your solutions on the `return` lines inside the following function."
   ]
  },
  {
   "cell_type": "code",
   "execution_count": null,
   "id": "c902e627",
   "metadata": {},
   "outputs": [],
   "source": [
    "# tested function: leave function name and input as is\n",
    "def string_formatting(operation = 1, value = 1.73456):\n",
    "    match operation:\n",
    "        case 1: # 2        (see \"5. Precision\", why can't you use %d?)\n",
    "            return \"    \" % value\n",
    "        \n",
    "        case 2: # 1.7      \n",
    "            return \"    \" % value\n",
    "        \n",
    "        case 3: # 1.73\n",
    "            return \"    \" % value\n",
    "        \n",
    "        case 4: #    1.73  (with a total length of 7, see \"4. Minimum field width\")\n",
    "            return \"     \" % value\n",
    "        \n",
    "        case 5: # 0001.73  (see Flag '0')\n",
    "            return \"      \" % value\n",
    "        \n",
    "        case 6: # +1.73    (see Flag '+')\n",
    "            return \"     \" % value\n",
    "        \n",
    "        case 7: # +001.73\n",
    "            return \"       \" % value\n",
    "        \n",
    "        case 8: # 1.73e+00 (exponential format)\n",
    "            return \"    \" % value"
   ]
  },
  {
   "cell_type": "markdown",
   "id": "1d968f6c",
   "metadata": {},
   "source": [
    "<h1>3. Regular expressions</h1>"
   ]
  },
  {
   "cell_type": "markdown",
   "id": "cfcfc7b4",
   "metadata": {},
   "source": [
    "Regular expressions are used to find patterns in text, without exactly specifying each character. For example to find words, to find numbers that were formatted in a particular way, etc.<br>\n",
    "A single digit can for example be matched with `\\d`. That would match at 4 locations in the string `The width of the car is 2m, and the height is 1.65m.`.<br>\n",
    "Another example is that we can match a set of characters. This can be matched using `[xyz]`. That would match at 4 locations in the string `If x = 2y, than y = 6z.`.<br>\n",
    "At [Python Regular Expressions](https://docs.python.org/3/library/re.html) more information can be found on matching string patterns in Python. Using this information, make the following assignment.<br>\n",
    "<br>\n",
    "<b>Exercise</b><br>\n",
    "Open [regex101.com](https://regex101.com/).<br>\n",
    "On the left-hand side, select the \"Python\" flavor.<br>\n",
    "Copy the text below in the \"TEST STRING\" box.<br>\n",
    "In the \"REGULAR EXPRESSION\" text box, write a pattern that:\n",
    "<ul>\n",
    "    <li>Matches the first 10 lines with a decimal number.</li>\n",
    "    <li>Does not match the integer in the 11th line.</li>\n",
    "    <li>Does not match the text in the 12th line.</li>\n",
    "</ul>\n",
    "<i>Tip: Before jumping into looking up all the available syntax, what is in normal words the patterns that you need to match?</i><br>\n",
    "<i>Tip: Start with simple cases. For example, first make it work for either \".\" or \",\", and without leading zeros. Then add these one by one.</i>"
   ]
  },
  {
   "cell_type": "markdown",
   "id": "ceeb7d8b",
   "metadata": {},
   "source": [
    "    0001,2345\n",
    "    1,2345\n",
    "    1,23\n",
    "    ,2345\n",
    "    1,\n",
    "    001.2345\n",
    "    1.2345\n",
    "    1.23\n",
    "    .2345\n",
    "    1.\n",
    "    1\n",
    "    thisisnotanumber"
   ]
  },
  {
   "cell_type": "code",
   "execution_count": null,
   "id": "661ef036-8749-4c4a-84ef-82aa747b5c23",
   "metadata": {},
   "outputs": [],
   "source": [
    "regexp = r\"type your regular expression here\"\n",
    "\n",
    "# maintain the variable name 'regexp'\n",
    "# by using r\"...\" we prevent that '\\' is interpreted as an escape character"
   ]
  },
  {
   "cell_type": "code",
   "execution_count": null,
   "id": "01239c11",
   "metadata": {},
   "outputs": [],
   "source": [
    "# tested function: leave function name and input as is\n",
    "def regexp_string():\n",
    "    return regexp"
   ]
  },
  {
   "cell_type": "markdown",
   "id": "05a02c1f",
   "metadata": {},
   "source": [
    "<h1>4. Counting characters</h1>"
   ]
  },
  {
   "cell_type": "markdown",
   "id": "66cb588f",
   "metadata": {},
   "source": [
    "<b>Exercise</b><br>\n",
    "Find non-zero frequency (count) of any given character from the alphabet in the text given to the function below.\n",
    "<ul>\n",
    "<li>Treat accented characters as normal characters (you can have an ad-hoc solution for the given text).</li>\n",
    "<li>Combine uppercase and lowercase characters in a single count.</li>\n",
    "<li>Adapt the <code>count_character</code> function to return the frequency of any given letter in the alphabet.</li>\n",
    "</ul>\n",
    "<i>Hint: Have one step where you prepare and filter some data, and a second step where you count.<i><br>"
   ]
  },
  {
   "cell_type": "code",
   "execution_count": null,
   "id": "06ac4176-ba91-4b46-b5b3-fe1b0fd94488",
   "metadata": {},
   "outputs": [],
   "source": [
    "# tested function: leave function name and input as is\n",
    "def count_character(character, text = \"For the movie The Theory of Everything (2014), Jóhann Jóhannsson composed the song A Model of the Universe\"):\n",
    "    # let this function return the count of 'character' within 'text' following the rules above\n",
    "    \n",
    "    count = 1\n",
    "    return count\n",
    "\n",
    "# this loop will use your function and print the count for each letter in the alphabet\n",
    "for i in range(ord('a'), ord('z') + 1):\n",
    "    character = chr(i)\n",
    "    print(character + ': ' + str(count_character(character)))"
   ]
  },
  {
   "cell_type": "markdown",
   "id": "f412c5d7",
   "metadata": {},
   "source": [
    "<h1>5. Good... afternoon?</h1>"
   ]
  },
  {
   "cell_type": "markdown",
   "id": "a7c49199",
   "metadata": {},
   "source": [
    "The code below generates a random time in the day. Suppose we want to present a user a welcoming message when the user opens a program at that time.<br>\n",
    "<br>\n",
    "<b>Exercise</b><br>\n",
    "<ul>\n",
    "    <li>Compose a message with the format: Good {part of day}, the time is hh:mm</li>\n",
    "    <li>Parts of the day are night [0-5], morning [6-11], afternoon [12-17] or evening [18-23].</li>\n",
    "    <li>Hour or minute values below 10 should have a leading 0.</li>\n",
    "    <li>Adapt the <code>good_day</code> function to return the message.</li>\n",
    "</ul>\n",
    "<i>Hint: you can use if-elif-else for the part of the day, but you can also have a fixed list of parts of the day and use clever indexing from the hour value.</i>"
   ]
  },
  {
   "cell_type": "code",
   "execution_count": null,
   "id": "eb924af0-73b2-496e-b93e-5205c74f7949",
   "metadata": {},
   "outputs": [],
   "source": [
    "import random\n",
    "\n",
    "h = random.randint(0, 23) # hour of the day\n",
    "m = random.randint(0, 59) # minute in the hour\n",
    "\n",
    "# tested function: leave function name and input as is\n",
    "def good_day(h, m):\n",
    "    # let this function return the message as string based on 'h' and 'm' following the rules above\n",
    "    message = \"\"\n",
    "    return message\n",
    "\n",
    "print(good_day(h, m))"
   ]
  }
 ],
 "metadata": {
  "kernelspec": {
   "display_name": "Python 3",
   "language": "python",
   "name": "python3"
  },
  "language_info": {
   "codemirror_mode": {
    "name": "ipython",
    "version": 3
   },
   "file_extension": ".py",
   "mimetype": "text/x-python",
   "name": "python",
   "nbconvert_exporter": "python",
   "pygments_lexer": "ipython3",
   "version": "3.13.5"
  }
 },
 "nbformat": 4,
 "nbformat_minor": 5
}
